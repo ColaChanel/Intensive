{
 "cells": [
  {
   "cell_type": "code",
   "execution_count": 15,
   "metadata": {},
   "outputs": [],
   "source": [
    "import torch\n",
    "import pandas as pd\n",
    "import matplotlib.pyplot as plt\n",
    "import cv2\n",
    "import PIL\n",
    "from PIL import Image\n",
    "from NeuroUtils import NeuronetAPI\n",
    "\n",
    "dir = 'yolov5/1.jpg'\n",
    "(data, image) = NeuronetAPI.predict(dir, 'yolov5/runs/train/yolov5s_results2/weights/best.pt')\n",
    "data\n",
    "\n",
    "img = Image.fromarray(image[0])\n",
    "plt.imshow(img)\n",
    "plt.show()\n"
   ]
  }
 ],
 "metadata": {
  "kernelspec": {
   "display_name": "Python 3",
   "language": "python",
   "name": "python3"
  },
  "language_info": {
   "codemirror_mode": {
    "name": "ipython",
    "version": 3
   },
   "file_extension": ".py",
   "mimetype": "text/x-python",
   "name": "python",
   "nbconvert_exporter": "python",
   "pygments_lexer": "ipython3",
   "version": "3.10.9"
  },
  "orig_nbformat": 4,
  "vscode": {
   "interpreter": {
    "hash": "7bdd0c580d8305c72729d94b126ee22ef00b067a1a5b42cdd8bd60d54c10dee7"
   }
  }
 },
 "nbformat": 4,
 "nbformat_minor": 2
}
